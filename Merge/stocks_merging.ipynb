{
 "cells": [
  {
   "cell_type": "code",
   "execution_count": 2,
   "metadata": {},
   "outputs": [],
   "source": [
    "import os\n",
    "import pandas as pd\n",
    "from tqdm.notebook import tqdm\n",
    "from dateutil.parser import parse, isoparse\n",
    "from dateutil.relativedelta import *\n",
    "from fin_stat_names import stats as fin_stat_names"
   ]
  },
  {
   "cell_type": "code",
   "execution_count": 3,
   "metadata": {},
   "outputs": [],
   "source": [
    "def get_right_df(file):\n",
    "    df = pd.read_csv(file) \n",
    "    if 'dividend.csv' in file:\n",
    "        date_colums = ['Ex-Date', 'Record Date', 'Pay Date', 'Declared Date']\n",
    "        for col in date_colums:\n",
    "            df[col] = df[col].apply(get_date)\n",
    "        df.columns = ['Ex-Date', 'Record Date', 'Pay Date', 'date', 'Type', 'Amount']\n",
    "        return df\n",
    "    df['date'] = df['date'].apply(get_date, args=(file,))\n",
    "    return df\n",
    "\n",
    "def check(df, col):\n",
    "    d = {1: 31, 10: 30, 7: 30, 4: 30}\n",
    "    for date in df[df[col].notnull()].date[0:10]:\n",
    "        try:\n",
    "            if d[date.month] != date.day:\n",
    "                return False\n",
    "        except:\n",
    "            return False\n",
    "    return True\n",
    "\n",
    "def check_all(df):\n",
    "    for column in df.columns:\n",
    "        if len(df[df[column].notnull()]) == 0:\n",
    "            continue\n",
    "        a = column + '.csv' in fin_stat_names\n",
    "        b = check(df, column)\n",
    "        if a != b:\n",
    "            print(a, column)\n",
    "            return False\n",
    "    return True\n",
    "\n",
    "def get_date(s, name = 'dividends'):\n",
    "    try:\n",
    "        flag = name.split('/')[-1] in fin_stat_names\n",
    "        return parse(s) + relativedelta(months=1) * flag\n",
    "    except:\n",
    "        if s == '--':\n",
    "            return\n",
    "        print('file', name)\n",
    "        print('Не удалось преобразовать строку', s)\n",
    "        return\n",
    "\n",
    "def transform_fin_date(s):\n",
    "    return isoparse(s) + relativedelta(months=2) - relativedelta(days=1)\n",
    "\n",
    "def get_true_fin(path):\n",
    "    df = pd.read_csv(path)\n",
    "    columns = df.T.iloc[0]\n",
    "    df = df.T\n",
    "    df.columns = columns\n",
    "    df = df.iloc[1:]\n",
    "    df = df.reset_index()\n",
    "    df = df.rename(columns={'index' : 'date'})\n",
    "    df.date = df.date.apply(transform_fin_date)\n",
    "    return df.drop(['Restated', 'As Originally Reported'], axis=1)\n",
    "\n",
    "def get_merged_table(ticker):\n",
    "    path = '../Data/stocks/{ticker}/key_stats/'.format(ticker=ticker)\n",
    "    df = pd.DataFrame(columns=['date'])\n",
    "    for file in tqdm(os.listdir(path), desc=ticker):\n",
    "        new_df = get_right_df(path + file)\n",
    "        df = pd.merge(df, new_df, on='date', how='outer')\n",
    "    df = df.sort_values('date', ascending=False)\n",
    "    assert check_all(df) == True\n",
    "    a = get_true_fin('../Data/stocks/{ticker}/financials_stats/balance_sheet.csv'.format(ticker=ticker))\n",
    "    b = get_true_fin('../Data/stocks/{ticker}/financials_stats/cash_flow_statement.csv'.format(ticker=ticker))\n",
    "    c = get_true_fin('../Data/stocks/{ticker}/financials_stats/income_statement.csv'.format(ticker=ticker))\n",
    "    a = pd.merge(a, b,  on='date', how='outer')\n",
    "    a = pd.merge(a, c,  on='date', how='outer')\n",
    "    df = pd.merge(df, a,  on='date', how='outer')\n",
    "    df['ticker'] = [ticker] * len(df)\n",
    "    cols = df.columns.to_list()\n",
    "    return df[[cols[0]] + [cols[-1]] + cols[1 : -1]]"
   ]
  },
  {
   "cell_type": "code",
   "execution_count": 4,
   "metadata": {},
   "outputs": [],
   "source": [
    "tickers = [\n",
    "    'APA',\n",
    "    'COG',\n",
    "    'CVX',\n",
    "    'COP',\n",
    "    'EOG',\n",
    "    'XOM',\n",
    "    'HES',\n",
    "    'MUR',\n",
    "    'OXY',\n",
    "    'SUN',\n",
    "    'VLO',\n",
    "    'BA',\n",
    "    'LMT',\n",
    "    'AAL',\n",
    "    'DAL',\n",
    "    'JBLU',\n",
    "    'LUV',\n",
    "    'HON',\n",
    "    'RTN',\n",
    "    'UTX',\n",
    "    'GE',\n",
    "    #'FDX',\n",
    "    'UPS',\n",
    "    'AEP',\n",
    "    'ETR',\n",
    "    'PCG',\n",
    "    'JE',\n",
    "    'XEL',\n",
    "    'ES',\n",
    "    'AGR',\n",
    "    'CPK',\n",
    "    'NEE',\n",
    "    'HE',\n",
    "    'AVA',\n",
    "    'IDA',\n",
    "    'AEE',\n",
    "    'DUK',\n",
    "    'NI',\n",
    "    'EXC'\n",
    "]"
   ]
  },
  {
   "cell_type": "code",
   "execution_count": 5,
   "metadata": {
    "scrolled": true
   },
   "outputs": [
    {
     "data": {
      "application/vnd.jupyter.widget-view+json": {
       "model_id": "769773e07bad40dd84d44d2e11dd80c0",
       "version_major": 2,
       "version_minor": 0
      },
      "text/plain": [
       "HBox(children=(FloatProgress(value=0.0, max=38.0), HTML(value='')))"
      ]
     },
     "metadata": {},
     "output_type": "display_data"
    },
    {
     "data": {
      "application/vnd.jupyter.widget-view+json": {
       "model_id": "3b1b71f1beba4a09bcd5d8766fc269d1",
       "version_major": 2,
       "version_minor": 0
      },
      "text/plain": [
       "HBox(children=(FloatProgress(value=0.0, description='APA', max=101.0, style=ProgressStyle(description_width='i…"
      ]
     },
     "metadata": {},
     "output_type": "display_data"
    },
    {
     "name": "stdout",
     "output_type": "stream",
     "text": [
      "\n",
      "len =  (12259, 264)\n"
     ]
    },
    {
     "data": {
      "application/vnd.jupyter.widget-view+json": {
       "model_id": "6eb625e0de3441b6a94fdf3aa57829fa",
       "version_major": 2,
       "version_minor": 0
      },
      "text/plain": [
       "HBox(children=(FloatProgress(value=0.0, description='COG', max=101.0, style=ProgressStyle(description_width='i…"
      ]
     },
     "metadata": {},
     "output_type": "display_data"
    },
    {
     "name": "stdout",
     "output_type": "stream",
     "text": [
      "\n",
      "len =  (19959, 282)\n"
     ]
    },
    {
     "data": {
      "application/vnd.jupyter.widget-view+json": {
       "model_id": "2b8272ac8e6f432cbc0ba768bb2e553f",
       "version_major": 2,
       "version_minor": 0
      },
      "text/plain": [
       "HBox(children=(FloatProgress(value=0.0, description='CVX', max=101.0, style=ProgressStyle(description_width='i…"
      ]
     },
     "metadata": {},
     "output_type": "display_data"
    },
    {
     "name": "stdout",
     "output_type": "stream",
     "text": [
      "\n",
      "len =  (32851, 289)\n"
     ]
    },
    {
     "data": {
      "application/vnd.jupyter.widget-view+json": {
       "model_id": "475d021155d5455d87a484a5f08f3a09",
       "version_major": 2,
       "version_minor": 0
      },
      "text/plain": [
       "HBox(children=(FloatProgress(value=0.0, description='COP', max=101.0, style=ProgressStyle(description_width='i…"
      ]
     },
     "metadata": {},
     "output_type": "display_data"
    },
    {
     "name": "stdout",
     "output_type": "stream",
     "text": [
      "\n",
      "len =  (45116, 294)\n"
     ]
    },
    {
     "data": {
      "application/vnd.jupyter.widget-view+json": {
       "model_id": "326c441578b2451ab3e4e3bebc94a2e4",
       "version_major": 2,
       "version_minor": 0
      },
      "text/plain": [
       "HBox(children=(FloatProgress(value=0.0, description='EOG', max=101.0, style=ProgressStyle(description_width='i…"
      ]
     },
     "metadata": {},
     "output_type": "display_data"
    },
    {
     "name": "stdout",
     "output_type": "stream",
     "text": [
      "\n",
      "len =  (52942, 298)\n"
     ]
    },
    {
     "data": {
      "application/vnd.jupyter.widget-view+json": {
       "model_id": "c3442b84e2d548658ab1dee67a9f6e5e",
       "version_major": 2,
       "version_minor": 0
      },
      "text/plain": [
       "HBox(children=(FloatProgress(value=0.0, description='XOM', max=101.0, style=ProgressStyle(description_width='i…"
      ]
     },
     "metadata": {},
     "output_type": "display_data"
    },
    {
     "name": "stdout",
     "output_type": "stream",
     "text": [
      "\n",
      "len =  (65205, 301)\n"
     ]
    },
    {
     "data": {
      "application/vnd.jupyter.widget-view+json": {
       "model_id": "d2377f5be3664c14aa41f4623d687754",
       "version_major": 2,
       "version_minor": 0
      },
      "text/plain": [
       "HBox(children=(FloatProgress(value=0.0, description='HES', max=101.0, style=ProgressStyle(description_width='i…"
      ]
     },
     "metadata": {},
     "output_type": "display_data"
    },
    {
     "name": "stdout",
     "output_type": "stream",
     "text": [
      "\n",
      "len =  (77461, 303)\n"
     ]
    },
    {
     "data": {
      "application/vnd.jupyter.widget-view+json": {
       "model_id": "37e557242e194b819c79c481359de86b",
       "version_major": 2,
       "version_minor": 0
      },
      "text/plain": [
       "HBox(children=(FloatProgress(value=0.0, description='MUR', max=101.0, style=ProgressStyle(description_width='i…"
      ]
     },
     "metadata": {},
     "output_type": "display_data"
    },
    {
     "name": "stdout",
     "output_type": "stream",
     "text": [
      "\n",
      "len =  (86938, 305)\n"
     ]
    },
    {
     "data": {
      "application/vnd.jupyter.widget-view+json": {
       "model_id": "134377be99304cd0975651a569db03cc",
       "version_major": 2,
       "version_minor": 0
      },
      "text/plain": [
       "HBox(children=(FloatProgress(value=0.0, description='OXY', max=101.0, style=ProgressStyle(description_width='i…"
      ]
     },
     "metadata": {},
     "output_type": "display_data"
    },
    {
     "name": "stdout",
     "output_type": "stream",
     "text": [
      "\n",
      "len =  (99198, 305)\n"
     ]
    },
    {
     "data": {
      "application/vnd.jupyter.widget-view+json": {
       "model_id": "3a5786aa2fa140cba0bb733af4adcd76",
       "version_major": 2,
       "version_minor": 0
      },
      "text/plain": [
       "HBox(children=(FloatProgress(value=0.0, description='SUN', max=101.0, style=ProgressStyle(description_width='i…"
      ]
     },
     "metadata": {},
     "output_type": "display_data"
    },
    {
     "name": "stdout",
     "output_type": "stream",
     "text": [
      "\n",
      "len =  (101130, 307)\n"
     ]
    },
    {
     "data": {
      "application/vnd.jupyter.widget-view+json": {
       "model_id": "3bcc92702b754daca5c4344d012ee6fe",
       "version_major": 2,
       "version_minor": 0
      },
      "text/plain": [
       "HBox(children=(FloatProgress(value=0.0, description='VLO', max=101.0, style=ProgressStyle(description_width='i…"
      ]
     },
     "metadata": {},
     "output_type": "display_data"
    },
    {
     "name": "stdout",
     "output_type": "stream",
     "text": [
      "\n",
      "len =  (107013, 310)\n"
     ]
    },
    {
     "data": {
      "application/vnd.jupyter.widget-view+json": {
       "model_id": "bd29f9c3d1b34be497d3fbd9bb8ed6a2",
       "version_major": 2,
       "version_minor": 0
      },
      "text/plain": [
       "HBox(children=(FloatProgress(value=0.0, description='BA', max=101.0, style=ProgressStyle(description_width='in…"
      ]
     },
     "metadata": {},
     "output_type": "display_data"
    },
    {
     "name": "stdout",
     "output_type": "stream",
     "text": [
      "\n",
      "len =  (119276, 311)\n"
     ]
    },
    {
     "data": {
      "application/vnd.jupyter.widget-view+json": {
       "model_id": "5ca76e56ba984e109939a1f5810a4884",
       "version_major": 2,
       "version_minor": 0
      },
      "text/plain": [
       "HBox(children=(FloatProgress(value=0.0, description='LMT', max=101.0, style=ProgressStyle(description_width='i…"
      ]
     },
     "metadata": {},
     "output_type": "display_data"
    },
    {
     "name": "stdout",
     "output_type": "stream",
     "text": [
      "\n",
      "len =  (125727, 312)\n"
     ]
    },
    {
     "data": {
      "application/vnd.jupyter.widget-view+json": {
       "model_id": "537cd794ec6f46efbbb5d156509aaf4d",
       "version_major": 2,
       "version_minor": 0
      },
      "text/plain": [
       "HBox(children=(FloatProgress(value=0.0, description='AAL', max=101.0, style=ProgressStyle(description_width='i…"
      ]
     },
     "metadata": {},
     "output_type": "display_data"
    },
    {
     "name": "stdout",
     "output_type": "stream",
     "text": [
      "\n",
      "len =  (137985, 313)\n"
     ]
    },
    {
     "data": {
      "application/vnd.jupyter.widget-view+json": {
       "model_id": "2a53f810a1c04c089ae2f81ed6a38790",
       "version_major": 2,
       "version_minor": 0
      },
      "text/plain": [
       "HBox(children=(FloatProgress(value=0.0, description='DAL', max=101.0, style=ProgressStyle(description_width='i…"
      ]
     },
     "metadata": {},
     "output_type": "display_data"
    },
    {
     "name": "stdout",
     "output_type": "stream",
     "text": [
      "\n",
      "len =  (141495, 313)\n"
     ]
    },
    {
     "data": {
      "application/vnd.jupyter.widget-view+json": {
       "model_id": "2a49add80d6a4af7abcfe127202722c0",
       "version_major": 2,
       "version_minor": 0
      },
      "text/plain": [
       "HBox(children=(FloatProgress(value=0.0, description='JBLU', max=101.0, style=ProgressStyle(description_width='…"
      ]
     },
     "metadata": {},
     "output_type": "display_data"
    },
    {
     "name": "stdout",
     "output_type": "stream",
     "text": [
      "\n",
      "len =  (146099, 313)\n"
     ]
    },
    {
     "data": {
      "application/vnd.jupyter.widget-view+json": {
       "model_id": "f597879ad2614a67a3fbf64e33f8fad3",
       "version_major": 2,
       "version_minor": 0
      },
      "text/plain": [
       "HBox(children=(FloatProgress(value=0.0, description='LUV', max=101.0, style=ProgressStyle(description_width='i…"
      ]
     },
     "metadata": {},
     "output_type": "display_data"
    },
    {
     "name": "stdout",
     "output_type": "stream",
     "text": [
      "\n",
      "len =  (158156, 313)\n"
     ]
    },
    {
     "data": {
      "application/vnd.jupyter.widget-view+json": {
       "model_id": "d02c9a4a4b5e4e14aa7cc74aae55433a",
       "version_major": 2,
       "version_minor": 0
      },
      "text/plain": [
       "HBox(children=(FloatProgress(value=0.0, description='HON', max=101.0, style=ProgressStyle(description_width='i…"
      ]
     },
     "metadata": {},
     "output_type": "display_data"
    },
    {
     "name": "stdout",
     "output_type": "stream",
     "text": [
      "\n",
      "len =  (167032, 313)\n"
     ]
    },
    {
     "data": {
      "application/vnd.jupyter.widget-view+json": {
       "model_id": "1c4d4d09320247ef8f45f55a677270e6",
       "version_major": 2,
       "version_minor": 0
      },
      "text/plain": [
       "HBox(children=(FloatProgress(value=0.0, description='RTN', max=101.0, style=ProgressStyle(description_width='i…"
      ]
     },
     "metadata": {},
     "output_type": "display_data"
    },
    {
     "name": "stdout",
     "output_type": "stream",
     "text": [
      "\n",
      "len =  (176865, 313)\n"
     ]
    },
    {
     "data": {
      "application/vnd.jupyter.widget-view+json": {
       "model_id": "505a9e28c8454da89b86dceb50462769",
       "version_major": 2,
       "version_minor": 0
      },
      "text/plain": [
       "HBox(children=(FloatProgress(value=0.0, description='UTX', max=101.0, style=ProgressStyle(description_width='i…"
      ]
     },
     "metadata": {},
     "output_type": "display_data"
    },
    {
     "name": "stdout",
     "output_type": "stream",
     "text": [
      "\n",
      "len =  (189115, 313)\n"
     ]
    },
    {
     "data": {
      "application/vnd.jupyter.widget-view+json": {
       "model_id": "725ed768d3ae4fe4bdc6026f54918b7a",
       "version_major": 2,
       "version_minor": 0
      },
      "text/plain": [
       "HBox(children=(FloatProgress(value=0.0, description='GE', max=101.0, style=ProgressStyle(description_width='in…"
      ]
     },
     "metadata": {},
     "output_type": "display_data"
    },
    {
     "name": "stdout",
     "output_type": "stream",
     "text": [
      "\n",
      "len =  (204041, 314)\n"
     ]
    },
    {
     "data": {
      "application/vnd.jupyter.widget-view+json": {
       "model_id": "b0b859df24c94bb996548df0e26c2077",
       "version_major": 2,
       "version_minor": 0
      },
      "text/plain": [
       "HBox(children=(FloatProgress(value=0.0, description='UPS', max=101.0, style=ProgressStyle(description_width='i…"
      ]
     },
     "metadata": {},
     "output_type": "display_data"
    },
    {
     "name": "stdout",
     "output_type": "stream",
     "text": [
      "\n",
      "len =  (209262, 314)\n"
     ]
    },
    {
     "data": {
      "application/vnd.jupyter.widget-view+json": {
       "model_id": "e66704f82d424a0499744209d68be68c",
       "version_major": 2,
       "version_minor": 0
      },
      "text/plain": [
       "HBox(children=(FloatProgress(value=0.0, description='AEP', max=101.0, style=ProgressStyle(description_width='i…"
      ]
     },
     "metadata": {},
     "output_type": "display_data"
    },
    {
     "name": "stdout",
     "output_type": "stream",
     "text": [
      "\n",
      "len =  (221517, 314)\n"
     ]
    },
    {
     "data": {
      "application/vnd.jupyter.widget-view+json": {
       "model_id": "218ec78fb5bf4893bf464e90450820a9",
       "version_major": 2,
       "version_minor": 0
      },
      "text/plain": [
       "HBox(children=(FloatProgress(value=0.0, description='ETR', max=101.0, style=ProgressStyle(description_width='i…"
      ]
     },
     "metadata": {},
     "output_type": "display_data"
    },
    {
     "name": "stdout",
     "output_type": "stream",
     "text": [
      "\n",
      "len =  (233778, 314)\n"
     ]
    },
    {
     "data": {
      "application/vnd.jupyter.widget-view+json": {
       "model_id": "a705c3bd34454ffe9008826e2a4c4a10",
       "version_major": 2,
       "version_minor": 0
      },
      "text/plain": [
       "HBox(children=(FloatProgress(value=0.0, description='PCG', max=101.0, style=ProgressStyle(description_width='i…"
      ]
     },
     "metadata": {},
     "output_type": "display_data"
    },
    {
     "name": "stdout",
     "output_type": "stream",
     "text": [
      "\n",
      "len =  (246032, 314)\n"
     ]
    },
    {
     "data": {
      "application/vnd.jupyter.widget-view+json": {
       "model_id": "79251025951c4a4f808a87e7ca9ade2d",
       "version_major": 2,
       "version_minor": 0
      },
      "text/plain": [
       "HBox(children=(FloatProgress(value=0.0, description='JE', max=101.0, style=ProgressStyle(description_width='in…"
      ]
     },
     "metadata": {},
     "output_type": "display_data"
    },
    {
     "name": "stdout",
     "output_type": "stream",
     "text": [
      "\n",
      "len =  (248461, 314)\n"
     ]
    },
    {
     "data": {
      "application/vnd.jupyter.widget-view+json": {
       "model_id": "06f452ebad4843039e35650d210e46fc",
       "version_major": 2,
       "version_minor": 0
      },
      "text/plain": [
       "HBox(children=(FloatProgress(value=0.0, description='XEL', max=101.0, style=ProgressStyle(description_width='i…"
      ]
     },
     "metadata": {},
     "output_type": "display_data"
    },
    {
     "name": "stdout",
     "output_type": "stream",
     "text": [
      "\n",
      "len =  (260710, 314)\n"
     ]
    },
    {
     "data": {
      "application/vnd.jupyter.widget-view+json": {
       "model_id": "031a987b791948eebdb68d2295f59f15",
       "version_major": 2,
       "version_minor": 0
      },
      "text/plain": [
       "HBox(children=(FloatProgress(value=0.0, description='ES', max=101.0, style=ProgressStyle(description_width='in…"
      ]
     },
     "metadata": {},
     "output_type": "display_data"
    },
    {
     "name": "stdout",
     "output_type": "stream",
     "text": [
      "\n",
      "len =  (272952, 314)\n"
     ]
    },
    {
     "data": {
      "application/vnd.jupyter.widget-view+json": {
       "model_id": "954de04575ee4d399efb672724a6cc5e",
       "version_major": 2,
       "version_minor": 0
      },
      "text/plain": [
       "HBox(children=(FloatProgress(value=0.0, description='AGR', max=101.0, style=ProgressStyle(description_width='i…"
      ]
     },
     "metadata": {},
     "output_type": "display_data"
    },
    {
     "name": "stdout",
     "output_type": "stream",
     "text": [
      "\n",
      "len =  (274412, 314)\n"
     ]
    },
    {
     "data": {
      "application/vnd.jupyter.widget-view+json": {
       "model_id": "d3de526ba6274a78b62d854f88081df9",
       "version_major": 2,
       "version_minor": 0
      },
      "text/plain": [
       "HBox(children=(FloatProgress(value=0.0, description='CPK', max=101.0, style=ProgressStyle(description_width='i…"
      ]
     },
     "metadata": {},
     "output_type": "display_data"
    },
    {
     "name": "stdout",
     "output_type": "stream",
     "text": [
      "\n",
      "len =  (284767, 314)\n"
     ]
    },
    {
     "data": {
      "application/vnd.jupyter.widget-view+json": {
       "model_id": "9e7655d5a8194fdf935d038db9fa817e",
       "version_major": 2,
       "version_minor": 0
      },
      "text/plain": [
       "HBox(children=(FloatProgress(value=0.0, description='NEE', max=101.0, style=ProgressStyle(description_width='i…"
      ]
     },
     "metadata": {},
     "output_type": "display_data"
    },
    {
     "name": "stdout",
     "output_type": "stream",
     "text": [
      "\n",
      "len =  (297019, 314)\n"
     ]
    },
    {
     "data": {
      "application/vnd.jupyter.widget-view+json": {
       "model_id": "d40ac66c1a2441588cef4bb3e920fc0a",
       "version_major": 2,
       "version_minor": 0
      },
      "text/plain": [
       "HBox(children=(FloatProgress(value=0.0, description='HE', max=101.0, style=ProgressStyle(description_width='in…"
      ]
     },
     "metadata": {},
     "output_type": "display_data"
    },
    {
     "name": "stdout",
     "output_type": "stream",
     "text": [
      "\n",
      "len =  (309255, 314)\n"
     ]
    },
    {
     "data": {
      "application/vnd.jupyter.widget-view+json": {
       "model_id": "73a256564f4c4742a4dfb781e20d4633",
       "version_major": 2,
       "version_minor": 0
      },
      "text/plain": [
       "HBox(children=(FloatProgress(value=0.0, description='AVA', max=101.0, style=ProgressStyle(description_width='i…"
      ]
     },
     "metadata": {},
     "output_type": "display_data"
    },
    {
     "name": "stdout",
     "output_type": "stream",
     "text": [
      "\n",
      "len =  (321488, 314)\n"
     ]
    },
    {
     "data": {
      "application/vnd.jupyter.widget-view+json": {
       "model_id": "7ef005044da545dfb61a91cdb6e0187a",
       "version_major": 2,
       "version_minor": 0
      },
      "text/plain": [
       "HBox(children=(FloatProgress(value=0.0, description='IDA', max=101.0, style=ProgressStyle(description_width='i…"
      ]
     },
     "metadata": {},
     "output_type": "display_data"
    },
    {
     "name": "stdout",
     "output_type": "stream",
     "text": [
      "\n",
      "len =  (333723, 314)\n"
     ]
    },
    {
     "data": {
      "application/vnd.jupyter.widget-view+json": {
       "model_id": "59a9b5b948d94ef7acb1f73698da4cab",
       "version_major": 2,
       "version_minor": 0
      },
      "text/plain": [
       "HBox(children=(FloatProgress(value=0.0, description='AEE', max=101.0, style=ProgressStyle(description_width='i…"
      ]
     },
     "metadata": {},
     "output_type": "display_data"
    },
    {
     "name": "stdout",
     "output_type": "stream",
     "text": [
      "\n",
      "len =  (340262, 314)\n"
     ]
    },
    {
     "data": {
      "application/vnd.jupyter.widget-view+json": {
       "model_id": "88b2bc846a2f4a1180e433cdc73e7082",
       "version_major": 2,
       "version_minor": 0
      },
      "text/plain": [
       "HBox(children=(FloatProgress(value=0.0, description='DUK', max=101.0, style=ProgressStyle(description_width='i…"
      ]
     },
     "metadata": {},
     "output_type": "display_data"
    },
    {
     "name": "stdout",
     "output_type": "stream",
     "text": [
      "\n",
      "len =  (352519, 314)\n"
     ]
    },
    {
     "data": {
      "application/vnd.jupyter.widget-view+json": {
       "model_id": "1b8b0fcd4c86448f8773507fd26e617f",
       "version_major": 2,
       "version_minor": 0
      },
      "text/plain": [
       "HBox(children=(FloatProgress(value=0.0, description='NI', max=101.0, style=ProgressStyle(description_width='in…"
      ]
     },
     "metadata": {},
     "output_type": "display_data"
    },
    {
     "name": "stdout",
     "output_type": "stream",
     "text": [
      "\n",
      "len =  (364760, 314)\n"
     ]
    },
    {
     "data": {
      "application/vnd.jupyter.widget-view+json": {
       "model_id": "b78ec9b7cf9543eb906d827a322e3404",
       "version_major": 2,
       "version_minor": 0
      },
      "text/plain": [
       "HBox(children=(FloatProgress(value=0.0, description='EXC', max=101.0, style=ProgressStyle(description_width='i…"
      ]
     },
     "metadata": {},
     "output_type": "display_data"
    },
    {
     "name": "stdout",
     "output_type": "stream",
     "text": [
      "\n",
      "len =  (377002, 314)\n",
      "\n"
     ]
    }
   ],
   "source": [
    "res = pd.DataFrame(columns=['date'])\n",
    "for ticker in tqdm(tickers):\n",
    "    res = pd.concat([res, get_merged_table(ticker)], sort=False)\n",
    "    print('len = ', res.shape)"
   ]
  },
  {
   "cell_type": "code",
   "execution_count": 9,
   "metadata": {},
   "outputs": [],
   "source": [
    "res.to_csv('test.csv', index=False)"
   ]
  },
  {
   "cell_type": "code",
   "execution_count": 13,
   "metadata": {},
   "outputs": [],
   "source": [
    "res = res.sort_values(['date', 'ticker'], ascending=False)"
   ]
  },
  {
   "cell_type": "code",
   "execution_count": 10,
   "metadata": {
    "scrolled": false
   },
   "outputs": [
    {
     "data": {
      "text/html": [
       "<div>\n",
       "<style scoped>\n",
       "    .dataframe tbody tr th:only-of-type {\n",
       "        vertical-align: middle;\n",
       "    }\n",
       "\n",
       "    .dataframe tbody tr th {\n",
       "        vertical-align: top;\n",
       "    }\n",
       "\n",
       "    .dataframe thead th {\n",
       "        text-align: right;\n",
       "    }\n",
       "</style>\n",
       "<table border=\"1\" class=\"dataframe\">\n",
       "  <thead>\n",
       "    <tr style=\"text-align: right;\">\n",
       "      <th></th>\n",
       "      <th>date</th>\n",
       "      <th>ticker</th>\n",
       "      <th>historical_daily_var_1_all</th>\n",
       "      <th>cash_financing_ttm</th>\n",
       "      <th>ev_ebitda</th>\n",
       "      <th>zmijewski_score</th>\n",
       "      <th>market_beta_60_month</th>\n",
       "      <th>market_cap_fractile</th>\n",
       "      <th>revenues_growth</th>\n",
       "      <th>ni_per_employee_annual</th>\n",
       "      <th>...</th>\n",
       "      <th>Amortization Expense</th>\n",
       "      <th>Net Change in Intangibles</th>\n",
       "      <th>Rent and Landing Expense</th>\n",
       "      <th>Notes Receivable</th>\n",
       "      <th>Properties</th>\n",
       "      <th>Excise Taxes</th>\n",
       "      <th>Research and Development Expense</th>\n",
       "      <th>Total Preferred Dividends Paid</th>\n",
       "      <th>Leases</th>\n",
       "      <th>Provision for Doubtful Accounts</th>\n",
       "    </tr>\n",
       "  </thead>\n",
       "  <tbody>\n",
       "    <tr>\n",
       "      <th>0</th>\n",
       "      <td>2020-03-19</td>\n",
       "      <td>APA</td>\n",
       "      <td>NaN</td>\n",
       "      <td>NaN</td>\n",
       "      <td>175.33</td>\n",
       "      <td>NaN</td>\n",
       "      <td>NaN</td>\n",
       "      <td>NaN</td>\n",
       "      <td>NaN</td>\n",
       "      <td>NaN</td>\n",
       "      <td>...</td>\n",
       "      <td>NaN</td>\n",
       "      <td>NaN</td>\n",
       "      <td>NaN</td>\n",
       "      <td>NaN</td>\n",
       "      <td>NaN</td>\n",
       "      <td>NaN</td>\n",
       "      <td>NaN</td>\n",
       "      <td>NaN</td>\n",
       "      <td>NaN</td>\n",
       "      <td>NaN</td>\n",
       "    </tr>\n",
       "    <tr>\n",
       "      <th>1</th>\n",
       "      <td>2020-03-18</td>\n",
       "      <td>APA</td>\n",
       "      <td>NaN</td>\n",
       "      <td>NaN</td>\n",
       "      <td>172.37</td>\n",
       "      <td>NaN</td>\n",
       "      <td>NaN</td>\n",
       "      <td>NaN</td>\n",
       "      <td>NaN</td>\n",
       "      <td>NaN</td>\n",
       "      <td>...</td>\n",
       "      <td>NaN</td>\n",
       "      <td>NaN</td>\n",
       "      <td>NaN</td>\n",
       "      <td>NaN</td>\n",
       "      <td>NaN</td>\n",
       "      <td>NaN</td>\n",
       "      <td>NaN</td>\n",
       "      <td>NaN</td>\n",
       "      <td>NaN</td>\n",
       "      <td>NaN</td>\n",
       "    </tr>\n",
       "    <tr>\n",
       "      <th>2</th>\n",
       "      <td>2020-03-17</td>\n",
       "      <td>APA</td>\n",
       "      <td>NaN</td>\n",
       "      <td>NaN</td>\n",
       "      <td>172.49</td>\n",
       "      <td>NaN</td>\n",
       "      <td>NaN</td>\n",
       "      <td>NaN</td>\n",
       "      <td>NaN</td>\n",
       "      <td>NaN</td>\n",
       "      <td>...</td>\n",
       "      <td>NaN</td>\n",
       "      <td>NaN</td>\n",
       "      <td>NaN</td>\n",
       "      <td>NaN</td>\n",
       "      <td>NaN</td>\n",
       "      <td>NaN</td>\n",
       "      <td>NaN</td>\n",
       "      <td>NaN</td>\n",
       "      <td>NaN</td>\n",
       "      <td>NaN</td>\n",
       "    </tr>\n",
       "    <tr>\n",
       "      <th>3</th>\n",
       "      <td>2020-03-16</td>\n",
       "      <td>APA</td>\n",
       "      <td>NaN</td>\n",
       "      <td>NaN</td>\n",
       "      <td>178.29</td>\n",
       "      <td>NaN</td>\n",
       "      <td>NaN</td>\n",
       "      <td>NaN</td>\n",
       "      <td>NaN</td>\n",
       "      <td>NaN</td>\n",
       "      <td>...</td>\n",
       "      <td>NaN</td>\n",
       "      <td>NaN</td>\n",
       "      <td>NaN</td>\n",
       "      <td>NaN</td>\n",
       "      <td>NaN</td>\n",
       "      <td>NaN</td>\n",
       "      <td>NaN</td>\n",
       "      <td>NaN</td>\n",
       "      <td>NaN</td>\n",
       "      <td>NaN</td>\n",
       "    </tr>\n",
       "    <tr>\n",
       "      <th>4</th>\n",
       "      <td>2020-03-14</td>\n",
       "      <td>APA</td>\n",
       "      <td>NaN</td>\n",
       "      <td>NaN</td>\n",
       "      <td>NaN</td>\n",
       "      <td>NaN</td>\n",
       "      <td>NaN</td>\n",
       "      <td>NaN</td>\n",
       "      <td>NaN</td>\n",
       "      <td>NaN</td>\n",
       "      <td>...</td>\n",
       "      <td>NaN</td>\n",
       "      <td>NaN</td>\n",
       "      <td>NaN</td>\n",
       "      <td>NaN</td>\n",
       "      <td>NaN</td>\n",
       "      <td>NaN</td>\n",
       "      <td>NaN</td>\n",
       "      <td>NaN</td>\n",
       "      <td>NaN</td>\n",
       "      <td>NaN</td>\n",
       "    </tr>\n",
       "    <tr>\n",
       "      <th>...</th>\n",
       "      <td>...</td>\n",
       "      <td>...</td>\n",
       "      <td>...</td>\n",
       "      <td>...</td>\n",
       "      <td>...</td>\n",
       "      <td>...</td>\n",
       "      <td>...</td>\n",
       "      <td>...</td>\n",
       "      <td>...</td>\n",
       "      <td>...</td>\n",
       "      <td>...</td>\n",
       "      <td>...</td>\n",
       "      <td>...</td>\n",
       "      <td>...</td>\n",
       "      <td>...</td>\n",
       "      <td>...</td>\n",
       "      <td>...</td>\n",
       "      <td>...</td>\n",
       "      <td>...</td>\n",
       "      <td>...</td>\n",
       "      <td>...</td>\n",
       "    </tr>\n",
       "    <tr>\n",
       "      <th>376997</th>\n",
       "      <td>1972-06-06</td>\n",
       "      <td>EXC</td>\n",
       "      <td>NaN</td>\n",
       "      <td>NaN</td>\n",
       "      <td>NaN</td>\n",
       "      <td>NaN</td>\n",
       "      <td>NaN</td>\n",
       "      <td>NaN</td>\n",
       "      <td>NaN</td>\n",
       "      <td>NaN</td>\n",
       "      <td>...</td>\n",
       "      <td>NaN</td>\n",
       "      <td>NaN</td>\n",
       "      <td>NaN</td>\n",
       "      <td>NaN</td>\n",
       "      <td>NaN</td>\n",
       "      <td>NaN</td>\n",
       "      <td>NaN</td>\n",
       "      <td>NaN</td>\n",
       "      <td>NaN</td>\n",
       "      <td>NaN</td>\n",
       "    </tr>\n",
       "    <tr>\n",
       "      <th>376998</th>\n",
       "      <td>1972-06-05</td>\n",
       "      <td>EXC</td>\n",
       "      <td>NaN</td>\n",
       "      <td>NaN</td>\n",
       "      <td>NaN</td>\n",
       "      <td>NaN</td>\n",
       "      <td>NaN</td>\n",
       "      <td>NaN</td>\n",
       "      <td>NaN</td>\n",
       "      <td>NaN</td>\n",
       "      <td>...</td>\n",
       "      <td>NaN</td>\n",
       "      <td>NaN</td>\n",
       "      <td>NaN</td>\n",
       "      <td>NaN</td>\n",
       "      <td>NaN</td>\n",
       "      <td>NaN</td>\n",
       "      <td>NaN</td>\n",
       "      <td>NaN</td>\n",
       "      <td>NaN</td>\n",
       "      <td>NaN</td>\n",
       "    </tr>\n",
       "    <tr>\n",
       "      <th>376999</th>\n",
       "      <td>1972-06-02</td>\n",
       "      <td>EXC</td>\n",
       "      <td>NaN</td>\n",
       "      <td>NaN</td>\n",
       "      <td>NaN</td>\n",
       "      <td>NaN</td>\n",
       "      <td>NaN</td>\n",
       "      <td>NaN</td>\n",
       "      <td>NaN</td>\n",
       "      <td>NaN</td>\n",
       "      <td>...</td>\n",
       "      <td>NaN</td>\n",
       "      <td>NaN</td>\n",
       "      <td>NaN</td>\n",
       "      <td>NaN</td>\n",
       "      <td>NaN</td>\n",
       "      <td>NaN</td>\n",
       "      <td>NaN</td>\n",
       "      <td>NaN</td>\n",
       "      <td>NaN</td>\n",
       "      <td>NaN</td>\n",
       "    </tr>\n",
       "    <tr>\n",
       "      <th>377000</th>\n",
       "      <td>1972-06-01</td>\n",
       "      <td>EXC</td>\n",
       "      <td>NaN</td>\n",
       "      <td>NaN</td>\n",
       "      <td>NaN</td>\n",
       "      <td>NaN</td>\n",
       "      <td>NaN</td>\n",
       "      <td>NaN</td>\n",
       "      <td>NaN</td>\n",
       "      <td>NaN</td>\n",
       "      <td>...</td>\n",
       "      <td>NaN</td>\n",
       "      <td>NaN</td>\n",
       "      <td>NaN</td>\n",
       "      <td>NaN</td>\n",
       "      <td>NaN</td>\n",
       "      <td>NaN</td>\n",
       "      <td>NaN</td>\n",
       "      <td>NaN</td>\n",
       "      <td>NaN</td>\n",
       "      <td>NaN</td>\n",
       "    </tr>\n",
       "    <tr>\n",
       "      <th>377001</th>\n",
       "      <td>NaN</td>\n",
       "      <td>EXC</td>\n",
       "      <td>NaN</td>\n",
       "      <td>NaN</td>\n",
       "      <td>NaN</td>\n",
       "      <td>NaN</td>\n",
       "      <td>NaN</td>\n",
       "      <td>NaN</td>\n",
       "      <td>NaN</td>\n",
       "      <td>NaN</td>\n",
       "      <td>...</td>\n",
       "      <td>NaN</td>\n",
       "      <td>NaN</td>\n",
       "      <td>NaN</td>\n",
       "      <td>NaN</td>\n",
       "      <td>NaN</td>\n",
       "      <td>NaN</td>\n",
       "      <td>NaN</td>\n",
       "      <td>NaN</td>\n",
       "      <td>NaN</td>\n",
       "      <td>NaN</td>\n",
       "    </tr>\n",
       "  </tbody>\n",
       "</table>\n",
       "<p>377002 rows × 314 columns</p>\n",
       "</div>"
      ],
      "text/plain": [
       "              date ticker historical_daily_var_1_all cash_financing_ttm  \\\n",
       "0       2020-03-19    APA                        NaN                NaN   \n",
       "1       2020-03-18    APA                        NaN                NaN   \n",
       "2       2020-03-17    APA                        NaN                NaN   \n",
       "3       2020-03-16    APA                        NaN                NaN   \n",
       "4       2020-03-14    APA                        NaN                NaN   \n",
       "...            ...    ...                        ...                ...   \n",
       "376997  1972-06-06    EXC                        NaN                NaN   \n",
       "376998  1972-06-05    EXC                        NaN                NaN   \n",
       "376999  1972-06-02    EXC                        NaN                NaN   \n",
       "377000  1972-06-01    EXC                        NaN                NaN   \n",
       "377001         NaN    EXC                        NaN                NaN   \n",
       "\n",
       "        ev_ebitda  zmijewski_score  market_beta_60_month  market_cap_fractile  \\\n",
       "0          175.33              NaN                   NaN                  NaN   \n",
       "1          172.37              NaN                   NaN                  NaN   \n",
       "2          172.49              NaN                   NaN                  NaN   \n",
       "3          178.29              NaN                   NaN                  NaN   \n",
       "4             NaN              NaN                   NaN                  NaN   \n",
       "...           ...              ...                   ...                  ...   \n",
       "376997        NaN              NaN                   NaN                  NaN   \n",
       "376998        NaN              NaN                   NaN                  NaN   \n",
       "376999        NaN              NaN                   NaN                  NaN   \n",
       "377000        NaN              NaN                   NaN                  NaN   \n",
       "377001        NaN              NaN                   NaN                  NaN   \n",
       "\n",
       "       revenues_growth ni_per_employee_annual  ... Amortization Expense  \\\n",
       "0                  NaN                    NaN  ...                  NaN   \n",
       "1                  NaN                    NaN  ...                  NaN   \n",
       "2                  NaN                    NaN  ...                  NaN   \n",
       "3                  NaN                    NaN  ...                  NaN   \n",
       "4                  NaN                    NaN  ...                  NaN   \n",
       "...                ...                    ...  ...                  ...   \n",
       "376997             NaN                    NaN  ...                  NaN   \n",
       "376998             NaN                    NaN  ...                  NaN   \n",
       "376999             NaN                    NaN  ...                  NaN   \n",
       "377000             NaN                    NaN  ...                  NaN   \n",
       "377001             NaN                    NaN  ...                  NaN   \n",
       "\n",
       "       Net Change in Intangibles Rent and Landing Expense Notes Receivable  \\\n",
       "0                            NaN                      NaN              NaN   \n",
       "1                            NaN                      NaN              NaN   \n",
       "2                            NaN                      NaN              NaN   \n",
       "3                            NaN                      NaN              NaN   \n",
       "4                            NaN                      NaN              NaN   \n",
       "...                          ...                      ...              ...   \n",
       "376997                       NaN                      NaN              NaN   \n",
       "376998                       NaN                      NaN              NaN   \n",
       "376999                       NaN                      NaN              NaN   \n",
       "377000                       NaN                      NaN              NaN   \n",
       "377001                       NaN                      NaN              NaN   \n",
       "\n",
       "        Properties Excise Taxes  Research and Development Expense  \\\n",
       "0              NaN          NaN                               NaN   \n",
       "1              NaN          NaN                               NaN   \n",
       "2              NaN          NaN                               NaN   \n",
       "3              NaN          NaN                               NaN   \n",
       "4              NaN          NaN                               NaN   \n",
       "...            ...          ...                               ...   \n",
       "376997         NaN          NaN                               NaN   \n",
       "376998         NaN          NaN                               NaN   \n",
       "376999         NaN          NaN                               NaN   \n",
       "377000         NaN          NaN                               NaN   \n",
       "377001         NaN          NaN                               NaN   \n",
       "\n",
       "        Total Preferred Dividends Paid  Leases  \\\n",
       "0                                  NaN     NaN   \n",
       "1                                  NaN     NaN   \n",
       "2                                  NaN     NaN   \n",
       "3                                  NaN     NaN   \n",
       "4                                  NaN     NaN   \n",
       "...                                ...     ...   \n",
       "376997                             NaN     NaN   \n",
       "376998                             NaN     NaN   \n",
       "376999                             NaN     NaN   \n",
       "377000                             NaN     NaN   \n",
       "377001                             NaN     NaN   \n",
       "\n",
       "        Provision for Doubtful Accounts  \n",
       "0                                   NaN  \n",
       "1                                   NaN  \n",
       "2                                   NaN  \n",
       "3                                   NaN  \n",
       "4                                   NaN  \n",
       "...                                 ...  \n",
       "376997                              NaN  \n",
       "376998                              NaN  \n",
       "376999                              NaN  \n",
       "377000                              NaN  \n",
       "377001                              NaN  \n",
       "\n",
       "[377002 rows x 314 columns]"
      ]
     },
     "execution_count": 10,
     "metadata": {},
     "output_type": "execute_result"
    }
   ],
   "source": [
    "pd.read_csv('test.csv', low_memory=False)"
   ]
  },
  {
   "cell_type": "code",
   "execution_count": 27,
   "metadata": {
    "scrolled": true
   },
   "outputs": [
    {
     "data": {
      "text/plain": [
       "'Amount'"
      ]
     },
     "execution_count": 27,
     "metadata": {},
     "output_type": "execute_result"
    }
   ],
   "source": [
    "res.columns[14]"
   ]
  },
  {
   "cell_type": "code",
   "execution_count": 26,
   "metadata": {},
   "outputs": [
    {
     "data": {
      "text/plain": [
       "Timestamp('2000-10-23 00:00:00')"
      ]
     },
     "execution_count": 26,
     "metadata": {},
     "output_type": "execute_result"
    }
   ],
   "source": [
    "res[res.ticker == 'EXC'].iloc[-1]['Ex-Date']"
   ]
  },
  {
   "cell_type": "code",
   "execution_count": 24,
   "metadata": {},
   "outputs": [
    {
     "name": "stdout",
     "output_type": "stream",
     "text": [
      "0 NaT\n",
      "1 EXC\n",
      "2 nan\n",
      "3 nan\n",
      "4 nan\n",
      "5 nan\n",
      "6 nan\n",
      "7 nan\n",
      "8 nan\n",
      "9 nan\n",
      "10 2000-10-23 00:00:00\n",
      "11 NaT\n",
      "12 NaT\n",
      "13 Normal\n",
      "14 0.0791\n",
      "15 nan\n",
      "16 nan\n",
      "17 nan\n",
      "18 nan\n",
      "19 nan\n",
      "20 nan\n",
      "21 nan\n",
      "22 nan\n",
      "23 nan\n",
      "24 nan\n",
      "25 nan\n",
      "26 nan\n",
      "27 nan\n",
      "28 nan\n",
      "29 nan\n",
      "30 nan\n",
      "31 nan\n",
      "32 nan\n",
      "33 nan\n",
      "34 nan\n",
      "35 nan\n",
      "36 nan\n",
      "37 nan\n",
      "38 nan\n",
      "39 nan\n",
      "40 nan\n",
      "41 nan\n",
      "42 nan\n",
      "43 nan\n",
      "44 nan\n",
      "45 nan\n",
      "46 nan\n",
      "47 nan\n",
      "48 nan\n",
      "49 nan\n",
      "50 nan\n",
      "51 nan\n",
      "52 nan\n",
      "53 nan\n",
      "54 nan\n",
      "55 nan\n",
      "56 nan\n",
      "57 nan\n",
      "58 nan\n",
      "59 nan\n",
      "60 nan\n",
      "61 nan\n",
      "62 nan\n",
      "63 nan\n",
      "64 nan\n",
      "65 nan\n",
      "66 nan\n",
      "67 nan\n",
      "68 nan\n",
      "69 nan\n",
      "70 nan\n",
      "71 nan\n",
      "72 nan\n",
      "73 nan\n",
      "74 nan\n",
      "75 nan\n",
      "76 nan\n",
      "77 nan\n",
      "78 nan\n",
      "79 nan\n",
      "80 nan\n",
      "81 nan\n",
      "82 nan\n",
      "83 nan\n",
      "84 nan\n",
      "85 nan\n",
      "86 nan\n",
      "87 nan\n",
      "88 nan\n",
      "89 nan\n",
      "90 nan\n",
      "91 nan\n",
      "92 nan\n",
      "93 nan\n",
      "94 nan\n",
      "95 nan\n",
      "96 nan\n",
      "97 nan\n",
      "98 nan\n",
      "99 nan\n",
      "100 nan\n",
      "101 nan\n",
      "102 nan\n",
      "103 nan\n",
      "104 nan\n",
      "105 nan\n",
      "106 nan\n",
      "107 nan\n",
      "108 nan\n",
      "109 nan\n",
      "110 nan\n",
      "111 nan\n",
      "112 nan\n",
      "113 nan\n",
      "114 nan\n",
      "115 nan\n",
      "116 nan\n",
      "117 nan\n",
      "118 nan\n",
      "119 nan\n",
      "120 nan\n",
      "121 nan\n",
      "122 nan\n",
      "123 nan\n",
      "124 nan\n",
      "125 nan\n",
      "126 nan\n",
      "127 nan\n",
      "128 nan\n",
      "129 nan\n",
      "130 nan\n",
      "131 nan\n",
      "132 nan\n",
      "133 nan\n",
      "134 nan\n",
      "135 nan\n",
      "136 nan\n",
      "137 nan\n",
      "138 nan\n",
      "139 nan\n",
      "140 nan\n",
      "141 nan\n",
      "142 nan\n",
      "143 nan\n",
      "144 nan\n",
      "145 nan\n",
      "146 nan\n",
      "147 nan\n",
      "148 nan\n",
      "149 nan\n",
      "150 nan\n",
      "151 nan\n",
      "152 nan\n",
      "153 nan\n",
      "154 nan\n",
      "155 nan\n",
      "156 nan\n",
      "157 nan\n",
      "158 nan\n",
      "159 nan\n",
      "160 nan\n",
      "161 nan\n",
      "162 nan\n",
      "163 nan\n",
      "164 nan\n",
      "165 nan\n",
      "166 nan\n",
      "167 nan\n",
      "168 nan\n",
      "169 nan\n",
      "170 nan\n",
      "171 nan\n",
      "172 nan\n",
      "173 nan\n",
      "174 nan\n",
      "175 nan\n",
      "176 nan\n",
      "177 nan\n",
      "178 nan\n",
      "179 nan\n",
      "180 nan\n",
      "181 nan\n",
      "182 nan\n",
      "183 nan\n",
      "184 nan\n",
      "185 nan\n",
      "186 nan\n",
      "187 nan\n",
      "188 nan\n",
      "189 nan\n",
      "190 nan\n",
      "191 nan\n",
      "192 nan\n",
      "193 nan\n",
      "194 nan\n",
      "195 nan\n",
      "196 nan\n",
      "197 nan\n",
      "198 nan\n",
      "199 nan\n",
      "200 nan\n",
      "201 nan\n",
      "202 nan\n",
      "203 nan\n",
      "204 nan\n",
      "205 nan\n",
      "206 nan\n",
      "207 nan\n",
      "208 nan\n",
      "209 nan\n",
      "210 nan\n",
      "211 nan\n",
      "212 nan\n",
      "213 nan\n",
      "214 nan\n",
      "215 nan\n",
      "216 nan\n",
      "217 nan\n",
      "218 nan\n",
      "219 nan\n",
      "220 nan\n",
      "221 nan\n",
      "222 nan\n",
      "223 nan\n",
      "224 nan\n",
      "225 nan\n",
      "226 nan\n",
      "227 nan\n",
      "228 nan\n",
      "229 nan\n",
      "230 nan\n",
      "231 nan\n",
      "232 nan\n",
      "233 nan\n",
      "234 nan\n",
      "235 nan\n",
      "236 nan\n",
      "237 nan\n",
      "238 nan\n",
      "239 nan\n",
      "240 nan\n",
      "241 nan\n",
      "242 nan\n",
      "243 nan\n",
      "244 nan\n",
      "245 nan\n",
      "246 nan\n",
      "247 nan\n",
      "248 nan\n",
      "249 nan\n",
      "250 nan\n",
      "251 nan\n",
      "252 nan\n",
      "253 nan\n",
      "254 nan\n",
      "255 nan\n",
      "256 nan\n",
      "257 nan\n",
      "258 nan\n",
      "259 nan\n",
      "260 nan\n",
      "261 nan\n",
      "262 nan\n",
      "263 nan\n",
      "264 nan\n",
      "265 nan\n",
      "266 nan\n",
      "267 nan\n",
      "268 nan\n",
      "269 nan\n",
      "270 nan\n",
      "271 nan\n",
      "272 nan\n",
      "273 nan\n",
      "274 nan\n",
      "275 nan\n",
      "276 nan\n",
      "277 nan\n",
      "278 nan\n",
      "279 nan\n",
      "280 nan\n",
      "281 nan\n",
      "282 nan\n",
      "283 nan\n",
      "284 nan\n",
      "285 nan\n",
      "286 nan\n",
      "287 nan\n",
      "288 nan\n",
      "289 nan\n",
      "290 nan\n",
      "291 nan\n",
      "292 nan\n",
      "293 nan\n",
      "294 nan\n",
      "295 nan\n",
      "296 nan\n",
      "297 nan\n",
      "298 nan\n",
      "299 nan\n",
      "300 nan\n",
      "301 nan\n",
      "302 nan\n",
      "303 nan\n",
      "304 nan\n",
      "305 nan\n",
      "306 nan\n",
      "307 nan\n",
      "308 nan\n",
      "309 nan\n",
      "310 nan\n",
      "311 nan\n",
      "312 nan\n",
      "313 nan\n"
     ]
    }
   ],
   "source": [
    "for idx, el in enumerate(res[res.ticker == 'EXC'].iloc[-1]):\n",
    "    if el:\n",
    "        print(idx, el)"
   ]
  },
  {
   "cell_type": "code",
   "execution_count": null,
   "metadata": {},
   "outputs": [],
   "source": []
  }
 ],
 "metadata": {
  "kernelspec": {
   "display_name": "Python 3",
   "language": "python",
   "name": "python3"
  },
  "language_info": {
   "codemirror_mode": {
    "name": "ipython",
    "version": 3
   },
   "file_extension": ".py",
   "mimetype": "text/x-python",
   "name": "python",
   "nbconvert_exporter": "python",
   "pygments_lexer": "ipython3",
   "version": "3.6.5"
  }
 },
 "nbformat": 4,
 "nbformat_minor": 2
}
